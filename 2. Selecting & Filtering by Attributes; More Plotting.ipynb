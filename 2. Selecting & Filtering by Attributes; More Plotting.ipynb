{
 "cells": [
  {
   "cell_type": "markdown",
   "metadata": {},
   "source": [
    "# Selecting & Filtering by Attributes; More Plotting\n",
    "\n",
    "This time, we'll work a little more on manipulating and exploring the attributes. This is akin to working with the attribute table in desktop GIS software.  \n",
    "\n",
    "Start by importing pandas, geopandas, matplotlib.pyplot, and os:  \n",
    "    \n",
    "    >>> import pandas as pd\n",
    "    >>> import geopandas as gpd\n",
    "    >>> import matplotlib.pyplot as plt\n",
    "    >>> import os"
   ]
  },
  {
   "cell_type": "code",
   "execution_count": null,
   "metadata": {},
   "outputs": [],
   "source": []
  },
  {
   "cell_type": "markdown",
   "metadata": {},
   "source": [
    "#### Import the OSMP_Trails shapefile as trails:\n",
    "    >>> trails = gpd.read_file('data/OSMP_Trails.shp')"
   ]
  },
  {
   "cell_type": "code",
   "execution_count": null,
   "metadata": {},
   "outputs": [],
   "source": []
  },
  {
   "cell_type": "markdown",
   "metadata": {},
   "source": [
    "#### Use .head() to view only the first few rows of the dataframe:\n",
    "    >>> trails.head()"
   ]
  },
  {
   "cell_type": "code",
   "execution_count": null,
   "metadata": {},
   "outputs": [],
   "source": []
  },
  {
   "cell_type": "markdown",
   "metadata": {},
   "source": [
    "#### You can also view all column headers:\n",
    "    >>> trails.columns"
   ]
  },
  {
   "cell_type": "code",
   "execution_count": null,
   "metadata": {},
   "outputs": [],
   "source": []
  },
  {
   "cell_type": "markdown",
   "metadata": {},
   "source": [
    "#### You can also call up just one column:\n",
    "    >>> trails.TRAILTYPE"
   ]
  },
  {
   "cell_type": "code",
   "execution_count": null,
   "metadata": {},
   "outputs": [],
   "source": []
  },
  {
   "cell_type": "markdown",
   "metadata": {},
   "source": [
    "#### Now take a look at the trail data by plotting it:\n",
    "    >>> trails.plot()"
   ]
  },
  {
   "cell_type": "code",
   "execution_count": null,
   "metadata": {},
   "outputs": [],
   "source": []
  },
  {
   "cell_type": "markdown",
   "metadata": {},
   "source": [
    "#### You can also filter by attributes and create a new variable from the result:\n",
    "    >>> bikeTrails = trails.loc[trails['BICYCLES']=='Yes']\n",
    "    >>> bikeTrails"
   ]
  },
  {
   "cell_type": "code",
   "execution_count": null,
   "metadata": {},
   "outputs": [],
   "source": []
  },
  {
   "cell_type": "markdown",
   "metadata": {},
   "source": [
    "#### Nice. You have a new geodataframe that is just bike trails. Plot them:\n",
    "    >>> bikeTrails.plot()"
   ]
  },
  {
   "cell_type": "code",
   "execution_count": null,
   "metadata": {},
   "outputs": [],
   "source": []
  },
  {
   "cell_type": "markdown",
   "metadata": {},
   "source": [
    "#### Now, do the same for hiking trails, then count the results:\n",
    "    >>> hikeTrails = trails.loc[trails['TRAILTYPE']=='Hiking Trail']\n",
    "    >>> len(hikeTrails)"
   ]
  },
  {
   "cell_type": "code",
   "execution_count": null,
   "metadata": {},
   "outputs": [],
   "source": []
  },
  {
   "cell_type": "markdown",
   "metadata": {},
   "source": [
    "#### Do the same for horse trails:\n",
    "    >>> horseTrails = trails.loc[trails['HORSES']=='Yes']\n",
    "    >>> len(horseTrails)"
   ]
  },
  {
   "cell_type": "code",
   "execution_count": null,
   "metadata": {},
   "outputs": [],
   "source": []
  },
  {
   "cell_type": "markdown",
   "metadata": {},
   "source": [
    "#### Now, select all trails whose mileage is greater than 2 miles:\n",
    "    >>> trails.loc[trails['MILEAGE']>=2]"
   ]
  },
  {
   "cell_type": "code",
   "execution_count": null,
   "metadata": {},
   "outputs": [],
   "source": []
  },
  {
   "cell_type": "markdown",
   "metadata": {},
   "source": [
    "#### Interesting. Only 3 trails are 2 miles or greater in length? \n",
    "Not exactly. These are trail segments. Note in the original geodataframe that there are multiple rows with the same trail name.\n",
    "\n",
    "#### Let's all the unique trail names:\n",
    "    >>> trails.TRAILNAME.unique()"
   ]
  },
  {
   "cell_type": "code",
   "execution_count": null,
   "metadata": {},
   "outputs": [],
   "source": []
  },
  {
   "cell_type": "markdown",
   "metadata": {},
   "source": [
    "#### Find out how many unique trail names there are using the same len()\n",
    "    >>> len(trails.TRAILNAME.unique())"
   ]
  },
  {
   "cell_type": "code",
   "execution_count": null,
   "metadata": {},
   "outputs": [],
   "source": []
  },
  {
   "cell_type": "markdown",
   "metadata": {},
   "source": [
    "#### Now, let's take each row, group them by trail name, then sum up the total mileage of each trail by trail name:\n",
    "Sounds hard, but not really!  \n",
    "\n",
    "    >>> trailLengths = trails.groupby('TRAILNAME')['MILEAGE'].sum()\n",
    "    >>> trailLengths"
   ]
  },
  {
   "cell_type": "code",
   "execution_count": null,
   "metadata": {},
   "outputs": [],
   "source": []
  },
  {
   "cell_type": "markdown",
   "metadata": {},
   "source": [
    "#### Resetting the index will bring it into a Pandas dataframe:\n",
    "    >>> trailLengths = trailLengths.reset_index()\n",
    "    >>> trailLengths"
   ]
  },
  {
   "cell_type": "code",
   "execution_count": null,
   "metadata": {},
   "outputs": [],
   "source": []
  },
  {
   "cell_type": "markdown",
   "metadata": {},
   "source": [
    "#### Now you can export your dataframe to a csv:\n",
    "    >>> trailLengths.to_csv('trailLengths.csv')"
   ]
  },
  {
   "cell_type": "code",
   "execution_count": null,
   "metadata": {},
   "outputs": [],
   "source": []
  },
  {
   "cell_type": "markdown",
   "metadata": {},
   "source": [
    "#### You should find it in your home folder.\n",
    "\n",
    "#### Now let's do a little more plotting:\n",
    "Import OSMP.shp and Boulder_Co.shp:  \n",
    "\n",
    "    >>> osmp = gpd.read_file('data/OSMP.shp')\n",
    "    >>> county = gpd.read_file('data/Boulder_Co.shp')"
   ]
  },
  {
   "cell_type": "code",
   "execution_count": null,
   "metadata": {},
   "outputs": [],
   "source": []
  },
  {
   "cell_type": "markdown",
   "metadata": {},
   "source": [
    "#### Reset the county layer's crs to match the osmp layer:\n",
    "    >>> county = county.to_crs(osmp.crs)"
   ]
  },
  {
   "cell_type": "code",
   "execution_count": null,
   "metadata": {},
   "outputs": [],
   "source": []
  },
  {
   "cell_type": "markdown",
   "metadata": {},
   "source": [
    "#### To plot more than two layers together, you must use 'fig' and a \"blank\" axis like so:\n",
    "    >>> fig, ax = plt.subplots(1, 1, figsize = (15,15))\n",
    "    >>> county.plot(ax=ax, color = '#F0E68C', edgecolor='black')\n",
    "    >>> osmp.plot(ax=ax, color = 'green', alpha=0.5)\n",
    "    >>> hikeTrails.plot(ax=ax, color='red')\n",
    "    >>> bikeTrails.plot(ax=ax, color='yellow')"
   ]
  },
  {
   "cell_type": "code",
   "execution_count": null,
   "metadata": {},
   "outputs": [],
   "source": []
  },
  {
   "cell_type": "markdown",
   "metadata": {},
   "source": [
    "#### Nice job!"
   ]
  }
 ],
 "metadata": {
  "kernelspec": {
   "display_name": "Python 3",
   "language": "python",
   "name": "python3"
  },
  "language_info": {
   "codemirror_mode": {
    "name": "ipython",
    "version": 3
   },
   "file_extension": ".py",
   "mimetype": "text/x-python",
   "name": "python",
   "nbconvert_exporter": "python",
   "pygments_lexer": "ipython3",
   "version": "3.6.8"
  }
 },
 "nbformat": 4,
 "nbformat_minor": 2
}
