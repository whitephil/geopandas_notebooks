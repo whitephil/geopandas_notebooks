{
 "cells": [
  {
   "cell_type": "markdown",
   "metadata": {},
   "source": [
    "# Table Joins & Choropleth Plotting\n",
    "\n",
    "This time we'll join a table of US Census data to a Census Tract shapefile and create a choropleth map of the results.\n",
    "\n",
    "    >>> import pandas as pd\n",
    "    >>> import geopandas as gpd\n",
    "    >>> import matplotlib.pyplot as plt\n",
    "    >>> import os"
   ]
  },
  {
   "cell_type": "code",
   "execution_count": null,
   "metadata": {},
   "outputs": [],
   "source": []
  },
  {
   "cell_type": "markdown",
   "metadata": {},
   "source": [
    "#### Start by importing the Boulder_Co_Tracts shapefile as a variable:\n",
    "    >>> BoulderTracts = gpd.read_file('data/Boulder_Co_Tracts.shp')\n",
    "    >>> BoulderTracts"
   ]
  },
  {
   "cell_type": "code",
   "execution_count": null,
   "metadata": {},
   "outputs": [],
   "source": []
  },
  {
   "cell_type": "markdown",
   "metadata": {},
   "source": [
    "#### Now, we'll read the Boulder_Co_MHHI csv file into a non-spatial Pandas dataframe:\n",
    "    >>> BoulderMHHI = pd.read_csv('data/Boulder_Co_MHHI.csv')\n",
    "    >>> BoulderMHHI"
   ]
  },
  {
   "cell_type": "code",
   "execution_count": null,
   "metadata": {},
   "outputs": [],
   "source": []
  },
  {
   "cell_type": "markdown",
   "metadata": {},
   "source": [
    "#### Which column should we base the join on?\n",
    "Take a close look at GEOID10:  \n",
    "\n",
    "    >>> print(BoulderMHHI.GEOID10)\n",
    "    >>> print(BoulderTracts.GEOID10)"
   ]
  },
  {
   "cell_type": "code",
   "execution_count": null,
   "metadata": {},
   "outputs": [],
   "source": []
  },
  {
   "cell_type": "markdown",
   "metadata": {},
   "source": [
    "### Arrrgh! Classic problem. Stripped leading zeros when importing the csv. \n",
    "\n",
    "#### Good news: this is easy to fix. Reimport the BoulderMHHI csv and tell pandas to read the GEOID10 column as a string instead of a number:\n",
    "    >>> BoulderMHHI = pd.read_csv('data/Boulder_Co_MHHI.csv', dtype={'GEOID10':str})\n",
    "    >>> BoulderMHHI"
   ]
  },
  {
   "cell_type": "code",
   "execution_count": null,
   "metadata": {},
   "outputs": [],
   "source": []
  },
  {
   "cell_type": "markdown",
   "metadata": {},
   "source": [
    "## Hell yeah! Fixed it!\n",
    "\n",
    "#### Now let's do our join:\n",
    "    >>> BoulderMHHI_Tracts = BoulderTracts.merge(BoulderMHHI, on = 'GEOID10')"
   ]
  },
  {
   "cell_type": "code",
   "execution_count": null,
   "metadata": {},
   "outputs": [],
   "source": []
  },
  {
   "cell_type": "markdown",
   "metadata": {},
   "source": [
    "#### Done! Now view the results:\n",
    "    >>> BoulderMHHI_Tracts"
   ]
  },
  {
   "cell_type": "code",
   "execution_count": null,
   "metadata": {},
   "outputs": [],
   "source": []
  },
  {
   "cell_type": "markdown",
   "metadata": {},
   "source": [
    "#### Great! Notice all the extra columns. \n",
    "\n",
    "#### Generating a choropleth couldn't be easier:\n",
    "    >>> BoulderMHHI_Tracts.plot('MHHI2014')"
   ]
  },
  {
   "cell_type": "code",
   "execution_count": null,
   "metadata": {},
   "outputs": [],
   "source": []
  },
  {
   "cell_type": "markdown",
   "metadata": {},
   "source": [
    "#### SWEET MAP! But maybe different colors would be cool too. Check this out:\n",
    "    >>> BoulderMHHI_Tracts.plot('MHHI2014', cmap='RdYlGn', figsize=(10,10))"
   ]
  },
  {
   "cell_type": "code",
   "execution_count": null,
   "metadata": {},
   "outputs": [],
   "source": []
  },
  {
   "cell_type": "markdown",
   "metadata": {},
   "source": [
    "#### v. Rad. \n",
    "\n",
    "#### Now, take the BoulderMHHI_Tracts variable and write it to a new geojson file:\n",
    "    >>> BoulderMHHI_Tracts.to_file('BoulderMHHI_Tracts.geojson', driver='GeoJSON')"
   ]
  },
  {
   "cell_type": "code",
   "execution_count": null,
   "metadata": {},
   "outputs": [],
   "source": []
  }
 ],
 "metadata": {
  "kernelspec": {
   "display_name": "Python 3",
   "language": "python",
   "name": "python3"
  },
  "language_info": {
   "codemirror_mode": {
    "name": "ipython",
    "version": 3
   },
   "file_extension": ".py",
   "mimetype": "text/x-python",
   "name": "python",
   "nbconvert_exporter": "python",
   "pygments_lexer": "ipython3",
   "version": "3.7.4"
  }
 },
 "nbformat": 4,
 "nbformat_minor": 2
}
