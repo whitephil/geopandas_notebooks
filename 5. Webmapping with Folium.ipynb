{
 "cells": [
  {
   "cell_type": "markdown",
   "metadata": {},
   "source": [
    "# Bonus Round: Webmapping with Folium\n",
    "\n",
    "    >>> import pandas as pd\n",
    "    >>> import geopandas as gpd\n",
    "    >>> import folium\n",
    "    >>> import os"
   ]
  },
  {
   "cell_type": "code",
   "execution_count": null,
   "metadata": {},
   "outputs": [],
   "source": []
  },
  {
   "cell_type": "markdown",
   "metadata": {},
   "source": [
    "#### Now, create a map as m with folium.Map():\n",
    "    >>> m = folium.Map()\n",
    "    >>> m"
   ]
  },
  {
   "cell_type": "code",
   "execution_count": null,
   "metadata": {},
   "outputs": [],
   "source": []
  },
  {
   "cell_type": "markdown",
   "metadata": {},
   "source": [
    "#### There's your basic map. Now let's set the starting location to the Boulder area and change the basemap tiles:\n",
    "    >>> m = folium.Map(location = [40.1, -105.4], tiles = 'Stamen Terrain', zoom_start = 10)\n",
    "    >>> m"
   ]
  },
  {
   "cell_type": "code",
   "execution_count": null,
   "metadata": {},
   "outputs": [],
   "source": []
  },
  {
   "cell_type": "markdown",
   "metadata": {},
   "source": [
    "#### Now, let's add our BoulderMHHI to the map:\n",
    "    >>> m = folium.Map(location = [40.1, -105.4], tiles = 'Stamen Terrain', zoom_start = 10)\n",
    "    >>> folium.GeoJson('BoulderMHHI_Tracts.geojson').add_to(m)\n",
    "    >>> m"
   ]
  },
  {
   "cell_type": "code",
   "execution_count": null,
   "metadata": {},
   "outputs": [],
   "source": []
  },
  {
   "cell_type": "markdown",
   "metadata": {},
   "source": [
    "#### Now, let's work on styling:\n",
    "    >>> m = folium.Map(location = [40.1, -105.4], tiles = 'Stamen Terrain', zoom_start = 10)\n",
    "    >>> folium.GeoJson('BoulderMHHI_Tracts.geojson', style_function = lambda features: {'fillColor': '#00ff00'}).add_to(m)\n",
    "    >>> m"
   ]
  },
  {
   "cell_type": "code",
   "execution_count": null,
   "metadata": {},
   "outputs": [],
   "source": []
  },
  {
   "cell_type": "markdown",
   "metadata": {},
   "source": [
    "## Now let's make a choropleth.\n",
    "\n",
    "##### Folium offers folium.choropleth() as an easy method to make a choropleth.\n",
    "This method takes a Pandas dataframe and joins it to a GeoJson on the fly to generate a choropleth.\n",
    "\n",
    "If your GeoJson or shapefile layer already have attributes baked in that you want to display, you can use a more complex alternative method here: https://nbviewer.jupyter.org/github/python-visualization/folium/blob/master/examples/plugin-Search.ipynb  \n",
    "\n",
    "##### My way is kind of a hack!  \n",
    "We *do* have attributes baked in, but I want to use the easier folium.choropleth() method.\n",
    "\n",
    "##### Q:What should we do if we need to add our choropleth data to our geodata, but our choropleth data is already part of our geodata?  \n",
    "\n",
    "##### A: Make a regular pandas dataframe out of our geodataframe, then add it back.\n",
    "\n",
    "### Yes, this is a hack!\n",
    "\n",
    "Create a pandas dataframe Boulder county MHHI geojson file we created earlier. First import the 'BoulderMHHI_Tracts.geojson' as a geodataframe, then convert it to a regular pandas dataframe:\n",
    "\n",
    "    >>> BoulderMHHI = gpd.read_file('BoulderMHHI_Tracts.geojson')\n",
    "    >>> MHHI = pd.DataFrame(BoulderMHHI)"
   ]
  },
  {
   "cell_type": "code",
   "execution_count": null,
   "metadata": {},
   "outputs": [],
   "source": []
  },
  {
   "cell_type": "markdown",
   "metadata": {},
   "source": [
    "#### Now we'll use folium.Choropleth() to create our choropleth map:\n",
    "    >>> m = folium.Map(location = [40.1, -105.4], tiles = 'Stamen Terrain', zoom_start = 10)\n",
    "    >>> folium.Choropleth(geo_data = 'BoulderMHHI_Tracts.geojson',\n",
    "                         data = MHHI,\n",
    "                         columns = ['GEOID10', 'MHHI2014'],\n",
    "                         key_on = 'feature.properties.GEOID10',\n",
    "                         fill_color = 'RdYlGn',\n",
    "                         fill_opacity = 0.7,\n",
    "                         line_opacity = 0.5,\n",
    "                         ).add_to(m)\n",
    "    >>> m"
   ]
  },
  {
   "cell_type": "code",
   "execution_count": null,
   "metadata": {},
   "outputs": [],
   "source": []
  },
  {
   "cell_type": "markdown",
   "metadata": {},
   "source": [
    "#### Export it as html so you can put it on your webpage:\n",
    "    >>> m.save('my_map.html')"
   ]
  },
  {
   "cell_type": "code",
   "execution_count": null,
   "metadata": {},
   "outputs": [],
   "source": []
  }
 ],
 "metadata": {
  "kernelspec": {
   "display_name": "Python 3",
   "language": "python",
   "name": "python3"
  },
  "language_info": {
   "codemirror_mode": {
    "name": "ipython",
    "version": 3
   },
   "file_extension": ".py",
   "mimetype": "text/x-python",
   "name": "python",
   "nbconvert_exporter": "python",
   "pygments_lexer": "ipython3",
   "version": "3.7.3"
  }
 },
 "nbformat": 4,
 "nbformat_minor": 2
}
